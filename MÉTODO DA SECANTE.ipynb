{
 "cells": [
  {
   "cell_type": "markdown",
   "id": "733375bb-3ece-4ee5-a334-e0cdc28f2740",
   "metadata": {
    "tags": []
   },
   "source": [
    "Neste método, o valor da derivada é aproximado pelo quociente das diferenças,\n",
    "\n",
    "$$ f'(x_n) \\approx \\frac{f(x_n)-f(x_{n-1})}{x_n-x_{n-1}}, $$\n",
    "\n",
    "substituindo na equação do Método de Newton,\n",
    "\n",
    "$$ x_{n+1} = x_n - \\frac{f(x_n)}{f'(x_n)}, $$\n",
    "\n",
    "tem-se\n",
    "\n",
    "$$ x_{n+1} = x_n - \\dfrac{f(x_n)}{\\frac{f(x_n)-f(x_{n-1})}{x_n-x_{n-1}}}, $$\n",
    "logo, o Método da Secante é dado por\n",
    "\n",
    "$$ x_{n+1} = x_n - \\frac{f(x_n)}{f(x_n)-f(x_{n-1})}(x_n-x_{n-1}). $$"
   ]
  },
  {
   "cell_type": "code",
   "execution_count": 1,
   "id": "4e2a3fd5-7820-49bd-a843-0e38aa5ad084",
   "metadata": {},
   "outputs": [],
   "source": [
    "# Importação das bibliotecas\n",
    "\n",
    "import math\n",
    "import numpy as np\n",
    "import matplotlib.pyplot as plt\n",
    "from sympy import *\n",
    "%matplotlib inline\n",
    "from sympy.plotting import *"
   ]
  },
  {
   "cell_type": "code",
   "execution_count": 2,
   "id": "b2b0d80f-9805-4c49-8139-1829b846dccc",
   "metadata": {},
   "outputs": [
    {
     "data": {
      "image/png": "[encoded data removed]",
      "text/plain": [
       "<Figure size 432x288 with 1 Axes>"
      ]
     },
     "metadata": {
      "needs_background": "light"
     },
     "output_type": "display_data"
    },
    {
     "data": {
      "text/plain": [
       "<sympy.plotting.plot.Plot at 0x200e2d370a0>"
      ]
     },
     "execution_count": 2,
     "metadata": {},
     "output_type": "execute_result"
    }
   ],
   "source": [
    "# Definir uma função e a derivada dessa função\n",
    "\n",
    "def f(x):\n",
    "    return x**3+x-3\n",
    "\n",
    "# Gerar o gráfico da função\n",
    "\n",
    "x = Symbol('x')\n",
    "plot(f(x), (x, -1, 2))"
   ]
  },
  {
   "cell_type": "code",
   "execution_count": 3,
   "id": "3469de85-9e03-48ac-9986-b725826f9397",
   "metadata": {},
   "outputs": [
    {
     "name": "stdout",
     "output_type": "stream",
     "text": [
      "4.278409090909091\n",
      "3.787358951097072\n",
      "2.6818316541737968\n",
      "2.101586826770464\n",
      "1.6420855455852943\n",
      "1.376619190809965\n",
      "1.2511203713234877\n",
      "1.2172351985136167\n",
      "1.2135069682633914\n",
      "1.2134119072568517\n",
      "1.2134116627778875\n",
      "1.2134116627622296\n",
      "1.2134116627622296\n",
      "Quantidade de iterações: 13\n",
      "A raíz aproximada é: 1.2134116627622296\n"
     ]
    }
   ],
   "source": [
    "# Estimar os pontos iniciais x0 e x1\n",
    "\n",
    "x0 = 5\n",
    "x1 = 10\n",
    "lista_xi = [] # armazena todos os valores iterados\n",
    "\n",
    "# Função que aplica o Método da Secante de acordo com o número de iterações definido\n",
    "\n",
    "def metodo_secante(x0, x1, iteracoes): # define a função com três argumentos\n",
    "    iteracao = 0 # ponto de partida\n",
    "    while iteracao <= iteracoes: # condição para rodar as iterações com o critério de parada\n",
    "        x2 = x1 - (f(x1)*(x1-x0))/(f(x1)-f(x0)) # Método da Secante\n",
    "        x0 = x1 # Variável temporária para hospedar o valor de x1 a cada iteração\n",
    "        x1 = x2 # Variável temporária para hospedar o valor de x2 a cada iteração\n",
    "        iteracao += 1 # Adiciona um passo de iteração a cada rodada até o critério de parada\n",
    "        lista_xi.append(x2)\n",
    "        print(x2)\n",
    "    print('Quantidade de iterações:', iteracao)\n",
    "    print('A raíz aproximada é:', x2)\n",
    "\n",
    "metodo_secante(x0, x1, 12)"
   ]
  },
  {
   "cell_type": "markdown",
   "id": "6d14f669-1585-43cc-bab2-b88feb09f471",
   "metadata": {},
   "source": [
    "##### Observações:\n",
    "Foi constatado que até a 9ª iteração o resultado foi variando, e a partir da 10ª iteração foi obtida a raíz 1,213411 que manteve o valor das seis primeiras casas decimais constantes, sendo essa a melhor aproximação."
   ]
  },
  {
   "cell_type": "markdown",
   "id": "00f4624f-bba8-4138-b08c-e1b6e6186682",
   "metadata": {},
   "source": [
    "##### Questão 2:\n",
    "\n",
    "a) Aproxime a derivada da função f pela variação média entre os pontos. O que é obtido?\n",
    "\n",
    "Uma outra equação para aproximação da raiz de uma função, denominada Método da Secante\n",
    "   \n",
    "b) Utilize esse novo método para determinar o zero da função:\n",
    "\n",
    "Foram definidos como pontos iniciais x<sub>0</sub> = 5 e x<sub>1</sub> = 10. O resultado obtido foi o mesmo que ao aplicar o Método de Newton.\n",
    "\n",
    "c) Vantagens e desvantagens do Método da Secante em relação ao Método de Newton:\n",
    "\n",
    "O Método da Secante apresenta uma convergência para a raiz mais rápida do que o Método de Newton, pois não utiliza a derivada da função para encontrar a raiz aproximada.\n",
    "\n",
    "Como desvantagem, o método necessita da estimativa de dois pontos iniciais. Neste caso, se as estimativas iniciais forem escolhidas de forma inadequada, a equação pode resultar em erro na divisão por 0, como aconteceu ao aplicar os pontos iniciais x<sub>0</sub> = 1 e x<sub>1</sub> = 10. Além disso, se os pontos iniciais não estiverem próximos da raiz, o método pode divergir em relação à ela ou apresentar oscilação.\n",
    "\n",
    "c) Apresente uma interpretação geométrica do método de Newton.\n",
    "\n",
    "A partir de dois pontos estimados (x<sub>0</sub>, x<sub>1</sub>), é possível traçar uma reta que intersecciona o eixo x, determinando um ponto x<sub>2</sub>. Essa é a reta secante e apresenta a primeira estimativa para a raiz. O objetivo desse método é executar iterações de modo a encontrar um valor para x que torne a função nula, f(x)=0."
   ]
  },
  {
   "cell_type": "code",
   "execution_count": 4,
   "id": "9c6d11e6-0f37-4733-bfc1-2f1ec1b92ef2",
   "metadata": {},
   "outputs": [
    {
     "data": {
      "image/png": "[encoded data removed]",
      "text/plain": [
       "<Figure size 432x288 with 1 Axes>"
      ]
     },
     "metadata": {
      "needs_background": "light"
     },
     "output_type": "display_data"
    }
   ],
   "source": [
    "# Exibe a função e os pontos no gráfico correspondentes aos xi da lista de pontos\n",
    "\n",
    "X = np.linspace(-5, 10, 10) # define o intervalo no gráfico\n",
    "\n",
    "plt.plot(X, f(X), label='$x^3+x-3$')\n",
    "plt.legend()\n",
    "\n",
    "for xi in lista_xi:\n",
    "    plt.plot(X, f(X), 'ro')"
   ]
  },
  {
   "cell_type": "markdown",
   "id": "f2ca8d58-b3ee-428c-8107-f6bae6fe496a",
   "metadata": {},
   "source": [
    "<img src='secante.png' >"
   ]
  },
  {
   "cell_type": "markdown",
   "id": "b1e1fbe3-56a2-4162-8f64-9b4fa5c379b9",
   "metadata": {},
   "source": [
    "Fonte: VETTER, Narã Vieira; SANTOS, Guilherme P. S.; MARQUES, Rafael Pereira. **Método da Secante Para Resolução de equações do tipo f(x)=0**. Associação Educacional Dom Bosco (AEDB), Faculdade de Engenharia de Resende, Resende, RJ, 2006."
   ]
  }
 ],
 "metadata": {
  "kernelspec": {
   "display_name": "ilumpy",
   "language": "python",
   "name": "ilumpy"
  },
  "language_info": {
   "codemirror_mode": {
    "name": "ipython",
    "version": 3
   },
   "file_extension": ".py",
   "mimetype": "text/x-python",
   "name": "python",
   "nbconvert_exporter": "python",
   "pygments_lexer": "ipython3",
   "version": "3.9.7"
  }
 },
 "nbformat": 4,
 "nbformat_minor": 5
}
