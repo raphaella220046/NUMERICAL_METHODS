{
 "cells": [
  {
   "cell_type": "markdown",
   "id": "733375bb-3ece-4ee5-a334-e0cdc28f2740",
   "metadata": {},
   "source": [
    "O Método da Bissecção consiste em dividir um intervalo $[a, b]$ ao meio e, posteriormente, repetir o processo, dividindo as seções em subintervalos até que seja possível encontrar uma ou mais raízes das funções polinomiais. É um método simples e robusto, que consegue lidar com funções complexas e divergentes, e tem como intuito obter uma primeira aproximação das soluções, sendo um ponto de partida para métodos mais sofisticados e que podem otimizar o desempenho computacional."
   ]
  },
  {
   "cell_type": "code",
   "execution_count": 1,
   "id": "4e2a3fd5-7820-49bd-a843-0e38aa5ad084",
   "metadata": {},
   "outputs": [],
   "source": [
    "# Importação das bibliotecas\n",
    "\n",
    "import math\n",
    "import numpy as np\n",
    "import matplotlib.pyplot as plt\n",
    "from sympy import *\n",
    "%matplotlib inline\n",
    "from sympy.plotting import *"
   ]
  },
  {
   "cell_type": "code",
   "execution_count": 2,
   "id": "3469de85-9e03-48ac-9986-b725826f9397",
   "metadata": {},
   "outputs": [],
   "source": [
    "# Definir um intervalo [a, b]\n",
    "\n",
    "a1 = -5\n",
    "b1 = 3"
   ]
  },
  {
   "cell_type": "markdown",
   "id": "1a634640-8daf-4d6b-b2dc-c4286c59ea61",
   "metadata": {},
   "source": [
    "**Método da Bissecção aplicado a função $x^3+x^2-10*x+8$**"
   ]
  },
  {
   "cell_type": "code",
   "execution_count": 3,
   "id": "b2b0d80f-9805-4c49-8139-1829b846dccc",
   "metadata": {},
   "outputs": [],
   "source": [
    "# Definir uma função\n",
    "\n",
    "def f(x):\n",
    "    return x**3+x**2-10*x+8"
   ]
  },
  {
   "cell_type": "code",
   "execution_count": 4,
   "id": "65f57540-00fd-4dd7-a436-c1ce4fe3f92d",
   "metadata": {},
   "outputs": [
    {
     "name": "stdout",
     "output_type": "stream",
     "text": [
      "A raíz é: -1.0\n",
      "A raíz é: -3.0\n",
      "A raiz é: -4.0\n"
     ]
    }
   ],
   "source": [
    "# Teorema de Bolzano - verifica no intervalo [a, b] existe a raíz da função\n",
    "\n",
    "if f(a1) * f(b1) < 0:\n",
    "    while (math.fabs(b1-a1)/2 > 0):\n",
    "        xi = (a1+b1)/2\n",
    "        if f(xi) == 0:\n",
    "            print('A raiz é:', xi)\n",
    "            break\n",
    "        else:\n",
    "            if f(a1) * f(xi) < 0:\n",
    "                b1 = xi\n",
    "            else:\n",
    "                a1 = xi\n",
    "        print('A raíz é:', xi)\n",
    "                \n",
    "else:\n",
    "    print('Não há raiz neste intervalo')"
   ]
  },
  {
   "cell_type": "code",
   "execution_count": 5,
   "id": "1e768a10-9947-4c22-b87e-ddd516d8db54",
   "metadata": {},
   "outputs": [
    {
     "data": {
      "image/png": "[encoded data removed]",
      "text/plain": [
       "<Figure size 432x288 with 1 Axes>"
      ]
     },
     "metadata": {
      "needs_background": "light"
     },
     "output_type": "display_data"
    },
    {
     "data": {
      "text/plain": [
       "<sympy.plotting.plot.Plot at 0x2c6f4660190>"
      ]
     },
     "execution_count": 5,
     "metadata": {},
     "output_type": "execute_result"
    }
   ],
   "source": [
    "# Gerar o gráfico da função\n",
    "\n",
    "x = Symbol('x')\n",
    "plot(f(x), (x, -4, 3))"
   ]
  },
  {
   "cell_type": "markdown",
   "id": "0c03157f-79b3-4678-bb07-a146f2e14318",
   "metadata": {},
   "source": [
    "**Método da Bissecção aplicado a função $x^3+x-2$**"
   ]
  },
  {
   "cell_type": "code",
   "execution_count": 6,
   "id": "2a2ec7e5-8a05-46be-8f7c-c2583868b06b",
   "metadata": {},
   "outputs": [],
   "source": [
    "# Definir um intervalo [a, b]\n",
    "\n",
    "a2 = -2\n",
    "b2 = 2"
   ]
  },
  {
   "cell_type": "code",
   "execution_count": 7,
   "id": "b0a1becb-0a3a-4acc-b15a-0117f9e66a42",
   "metadata": {},
   "outputs": [],
   "source": [
    "# Definir uma função\n",
    "\n",
    "def p(x):\n",
    "    return x**3+x-2"
   ]
  },
  {
   "cell_type": "code",
   "execution_count": 8,
   "id": "4082faca-f6cd-4cbf-952e-3779c3fa4c38",
   "metadata": {},
   "outputs": [
    {
     "name": "stdout",
     "output_type": "stream",
     "text": [
      "A raíz é: 0.0\n",
      "A raiz é: 1.0\n"
     ]
    }
   ],
   "source": [
    "# Teorema de Bolzano - verifica no intervalo [a, b] existe a raíz da função\n",
    "\n",
    "if p(a2) * p(b2) < 0:\n",
    "    while (math.fabs(b2-a2)/2 > 0):\n",
    "        xi = (a2+b2)/2\n",
    "        if p(xi) == 0:\n",
    "            print('A raiz é:', xi)\n",
    "            break\n",
    "        else:\n",
    "            if p(a2) * p(xi)<0:\n",
    "                b2 = xi\n",
    "            else:\n",
    "                a2 = xi\n",
    "        print('A raíz é:', xi)\n",
    "                \n",
    "else:\n",
    "    print('Não há raiz neste intervalo')"
   ]
  },
  {
   "cell_type": "code",
   "execution_count": 9,
   "id": "6f08deb4-cbc5-4b43-9b6b-fd9caf7e5a93",
   "metadata": {},
   "outputs": [
    {
     "data": {
      "image/png": "[encoded data removed]",
      "text/plain": [
       "<Figure size 432x288 with 1 Axes>"
      ]
     },
     "metadata": {
      "needs_background": "light"
     },
     "output_type": "display_data"
    },
    {
     "data": {
      "text/plain": [
       "<sympy.plotting.plot.Plot at 0x2c6f48a2d90>"
      ]
     },
     "execution_count": 9,
     "metadata": {},
     "output_type": "execute_result"
    }
   ],
   "source": [
    "# Gerar o gráfico da função\n",
    "\n",
    "x = Symbol('x')\n",
    "plot(p(x), (x, -1, 2))"
   ]
  },
  {
   "cell_type": "markdown",
   "id": "65d06d69-bd94-4a90-8143-17fc7e5cf163",
   "metadata": {},
   "source": [
    "**Observações:**\n",
    "\n",
    "O Teorema de Bolzano é utilizado para verificar se no intervalo determinado é possível encontrar a raiz da função, ou seja, se a função contínua passa por $x=0$. Aplicando o método da bissecção para encontrar os pontos médios no intervalo estimado, é possível se aproximar da raiz ou das raízes da função, conforme o intervalo é alterado. É um método mais flexível, em que não há limitações quanto ao comportamento da função, e desde que a raiz esteja no intervalo definido, o método garante convergência para ela, embora seja uma convergência lenta devido ao processo executado."
   ]
  }
 ],
 "metadata": {
  "kernelspec": {
   "display_name": "ilumpy",
   "language": "python",
   "name": "ilumpy"
  },
  "language_info": {
   "codemirror_mode": {
    "name": "ipython",
    "version": 3
   },
   "file_extension": ".py",
   "mimetype": "text/x-python",
   "name": "python",
   "nbconvert_exporter": "python",
   "pygments_lexer": "ipython3",
   "version": "3.9.7"
  }
 },
 "nbformat": 4,
 "nbformat_minor": 5
}
