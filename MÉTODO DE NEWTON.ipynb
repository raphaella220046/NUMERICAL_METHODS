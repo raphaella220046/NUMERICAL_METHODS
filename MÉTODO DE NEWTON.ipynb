{
 "cells": [
  {
   "cell_type": "markdown",
   "id": "733375bb-3ece-4ee5-a334-e0cdc28f2740",
   "metadata": {
    "tags": []
   },
   "source": [
    "O Método de Newton-Raphson tem por objetivo encontrar um valor aproximado para a raiz de uma função. Estimando um ponto de coordenadas $(x_0, y_0)$ que coincide com uma determinada função, é possível calcular uma reta tangente a essa função.</br>\n",
    "A equação fundamental da reta tangente é $y-y_0 = m(x-x_0)$, sendo $m$ o coeficiente angular da reta tangente, ou seja, a sua derivada. Portanto, dada uma função $f(x)$, é necessário derivar a função $f'(x_0)$, para obter $m = f'(x_0)$.</br>\n",
    "Substituindo na equação $y-y_0 = m(x-x_0)$, tem-se</br>\n",
    "$$ y-y_0 = f'(x_0)(x-x_0). $$\n",
    "A reta tangente toca o eixo x em um outro ponto, fazendo uma nova aproximação. Desta forma, é possível traçar uma nova reta tangente e aplicar novamente a equação da reta, recursivamente, até encontrar a melhor aproximação. O critério de parada desse método pode ser definido como o número de iterações que apresentem a melhor aproximação, ou seja, a menor distância entre um ponto estimado e a raiz da função.</br>\n",
    "Quando $$ |x_n-x_{n-1}| \\leq erro $$\n",
    "Da equação $y-y_0 = f'(x_0)(x-x_0)$, o ponto que toca o eixo $x$ tem valor $0$ para $y$, e $y_0$ corresponde a $f(x_0)$, então, fazendo a substituição, têm-se </br>\n",
    "$$ 0 - f(x_0) = f'(x_0)(x-x_0).$$\n",
    "Passando a derivada da função para antes da igualdade, é obtida a divisão\n",
    "$$-\\frac{f(x_0)}{f'(x_0)} = (x-x_0).$$\n",
    "Logo,\n",
    "$$ x = x_0 - \\frac{f(x_0)}{f'(x_0)}. $$\n",
    "Aplicando sucessivamente a equação, pode-se generalizar\n",
    "$$ x_{n+1} = x_n - \\frac{f(x_n)}{f'(x_n)}. $$"
   ]
  },
  {
   "cell_type": "code",
   "execution_count": 1,
   "id": "4e2a3fd5-7820-49bd-a843-0e38aa5ad084",
   "metadata": {},
   "outputs": [],
   "source": [
    "# Importação das bibliotecas\n",
    "\n",
    "import math\n",
    "import numpy as np\n",
    "import matplotlib.pyplot as plt\n",
    "from sympy import *\n",
    "%matplotlib inline\n",
    "from sympy.plotting import *"
   ]
  },
  {
   "cell_type": "code",
   "execution_count": 2,
   "id": "b2b0d80f-9805-4c49-8139-1829b846dccc",
   "metadata": {},
   "outputs": [
    {
     "data": {
      "image/png": "[encoded data removed]",
      "text/plain": [
       "<Figure size 432x288 with 1 Axes>"
      ]
     },
     "metadata": {
      "needs_background": "light"
     },
     "output_type": "display_data"
    },
    {
     "data": {
      "text/plain": [
       "<sympy.plotting.plot.Plot at 0x1cdfc1e6700>"
      ]
     },
     "execution_count": 2,
     "metadata": {},
     "output_type": "execute_result"
    }
   ],
   "source": [
    "# Definir uma função e a derivada dessa função\n",
    "\n",
    "def f(x):\n",
    "    return x**3+x-3\n",
    "def f_linha(x):\n",
    "    return 3*x**2+1\n",
    "\n",
    "# Gerar o gráfico da função\n",
    "\n",
    "x = Symbol('x')\n",
    "plot(f(x), (x, -1, 2))"
   ]
  },
  {
   "cell_type": "code",
   "execution_count": 3,
   "id": "3469de85-9e03-48ac-9986-b725826f9397",
   "metadata": {},
   "outputs": [
    {
     "name": "stdout",
     "output_type": "stream",
     "text": [
      "3.3289473684210527\n",
      "2.2420953383443445\n",
      "1.5883358570306219\n",
      "1.2854325269427802\n",
      "1.2167067824032813\n",
      "1.213418940032903\n",
      "1.213411662797817\n",
      "1.2134116627622296\n",
      "1.2134116627622296\n",
      "1.2134116627622296\n",
      "1.2134116627622296\n",
      "Quantidade de iterações: 11\n",
      "A raíz aproximada é: 1.2134116627622296\n"
     ]
    }
   ],
   "source": [
    "# Estimar um ponto x (chute inicial) que define o intervalo entre x e x0 da função contínua\n",
    "\n",
    "x0 = 5\n",
    "lista_xi = [] # armazena todos os valores xi iterados\n",
    "\n",
    "# Função que aplica o Método de Newton de acordo com o número de iterações definido\n",
    "\n",
    "def metodo_newton(x0, iteracoes): # define a função com dois argumentos\n",
    "    iteracao = 0 # ponto de partida\n",
    "    while iteracao <= iteracoes: # condição para rodar as iterações com o critério de parada\n",
    "        x1 = x0 - (f(x0) / f_linha(x0)) # Método de Newton\n",
    "        x0 = x1 # Variável temporária para hospedar o valor de x1 a cada iteração\n",
    "        iteracao += 1 # Adiciona um passo de iteração a cada rodada até o critério de parada\n",
    "        lista_xi.append(x1)\n",
    "        print(x1)\n",
    "    print('Quantidade de iterações:', iteracao)\n",
    "    print('A raíz aproximada é:', x1)\n",
    "\n",
    "metodo_newton(x0, 10)"
   ]
  },
  {
   "cell_type": "markdown",
   "id": "6d14f669-1585-43cc-bab2-b88feb09f471",
   "metadata": {},
   "source": [
    "##### Observações:\n",
    "Foi constatado que até a 7ª iteração o resultado foi variando, e a partir da 8ª iteração foi obtida a raiz 1,2134116627622296 que manteve seu valor constante, sendo essa a melhor aproximação."
   ]
  },
  {
   "cell_type": "markdown",
   "id": "00f4624f-bba8-4138-b08c-e1b6e6186682",
   "metadata": {},
   "source": [
    "##### Questão 1:\n",
    "\n",
    "a) Determine a raiz da função:\n",
    "\n",
    "Ponto inicial: 5\n",
    "\n",
    "Quantidade de iterações: 10\n",
    "\n",
    "raiz aproximada da função: 1,21\n",
    "   \n",
    "b) Vantagens do Método de Newton em relação ao Método da Bissecção:\n",
    "\n",
    "O Método de Newton apresenta convergência mais rápida quando comparada com o Método da Bissecção, pois consiste em aplicar a tangente em um ponto da função para encontrar um ponto no eixo x que se aproxima da raiz. Desta forma, não há a necessidade de estimar o intervalo e fazer divisões em subintervalos até encontrar a raiz da função. Também não precisa aplicar o Teorema de Bolzano para identificar se no intervalo proposto a raiz existe.\n",
    "\n",
    "Porém, apresenta como desvantagem a necessidade de calcular a derivada de uma função, e calcular seu valor numérico a cada iteração, o que pode não ser trivial a depender do tipo de função.\n",
    "Além disso, pode falhar se a derivada da função for nula, pois a reta tangente não interceptará o eixo x, ocorrendo uma indeterminação matemática (divisão por 0).\n",
    "\n",
    "c) Apresente uma interpretação geométrica do método de Newton.\n",
    "\n",
    "A partir de um ponto x estimado, é possível obter um par de coordenadas que determina a equação da reta tangente a esse ponto, traçado em laranja. Essa reta intersecciona o eixo x, determinando outro ponto para calcular novamente a tangente até se aproximar da raiz da função em azul."
   ]
  },
  {
   "cell_type": "code",
   "execution_count": 4,
   "id": "9c6d11e6-0f37-4733-bfc1-2f1ec1b92ef2",
   "metadata": {},
   "outputs": [
    {
     "data": {
      "image/png": "[encoded data removed]",
      "text/plain": [
       "<Figure size 432x288 with 1 Axes>"
      ]
     },
     "metadata": {
      "needs_background": "light"
     },
     "output_type": "display_data"
    }
   ],
   "source": [
    "# Exibe o gráfico da função e da tangente\n",
    "\n",
    "def tang(x):\n",
    "    return f(x0)+f_linha(x0)*(x-x0)\n",
    "X = np.linspace(-5, 10, 10) # define o intervalo no gráfico\n",
    "plt.plot(X, f(X), label='Função')\n",
    "plt.plot(X, tang (X), label='Tangente')\n",
    "plt.legend()\n",
    "\n",
    "# Exibe os pontos no gráfico correspondentes aos xi da lista de pontos\n",
    "\n",
    "for xi in lista_xi:\n",
    "    plt.plot(X, f(X), 'ro')"
   ]
  }
 ],
 "metadata": {
  "kernelspec": {
   "display_name": "ilumpy",
   "language": "python",
   "name": "ilumpy"
  },
  "language_info": {
   "codemirror_mode": {
    "name": "ipython",
    "version": 3
   },
   "file_extension": ".py",
   "mimetype": "text/x-python",
   "name": "python",
   "nbconvert_exporter": "python",
   "pygments_lexer": "ipython3",
   "version": "3.9.7"
  }
 },
 "nbformat": 4,
 "nbformat_minor": 5
}
