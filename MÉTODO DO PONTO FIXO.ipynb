{
 "cells": [
  {
   "cell_type": "markdown",
   "id": "a5f665d0-c187-4c5b-ac69-3961c1653a2f",
   "metadata": {},
   "source": [
    "É um método utilizado para calcular os pontos fixos de uma função.\n",
    "\n",
    "Dada uma função $f(x)$, é possível reescrevê-la de tal forma que:\n",
    "\n",
    "$f(x) = 0$ → é a função inicial utilizada para obter suas raízes;\n",
    "\n",
    "$f(x) = x$ → é a função equivalente a um ponto fixo, que aplicado à função, resulta nele mesmo;\n",
    "\n",
    "$f(x)-x = 0$ → é possível obter uma nova função, igualando a zero, têm-se\n",
    "\n",
    "$g(x) = f(x)-x$ → é a função de iteração para a equação $f(x) = 0$.\n",
    "\n",
    "Na qual o valor encontrado para $x$ em $g(x)$ também corresponde ao valor da raiz de $f(x)$.\n",
    "\n",
    "Nesse sentido, é possível iterar recursivamente sobre a mesma função, até obter a melhor aproximação para $x_n = g(x_{n-1})$, em que $x_n$ é uma nova aproximação do ponto $x$ estimado inicialmente.\n",
    "\n",
    "Vale destacar que o ponto fixo é um valor de intersecção entre as duas funções."
   ]
  },
  {
   "cell_type": "code",
   "execution_count": 1,
   "id": "4c765798-7247-4feb-8b1d-61a785b58134",
   "metadata": {},
   "outputs": [],
   "source": [
    "# Importação das bibliotecas\n",
    "\n",
    "import math\n",
    "import numpy as np\n",
    "import matplotlib.pyplot as plt\n",
    "from sympy import *\n",
    "%matplotlib inline\n",
    "from sympy.plotting import *"
   ]
  },
  {
   "cell_type": "code",
   "execution_count": 2,
   "id": "8bf6445c-e529-411f-b2c4-4fe91d0a5c2a",
   "metadata": {},
   "outputs": [],
   "source": [
    "# Estimar o ponto de partida (x0) e a quantidade de iterações\n",
    "\n",
    "x0 = 1\n",
    "iteracoes = 20\n",
    "\n",
    "# Definir a função iteração\n",
    "\n",
    "def funcao_iteracao(x):\n",
    "    return (-2*x**2+x+3)**(1/4)\n",
    "\n",
    "# Definir o método\n",
    "\n",
    "def ponto_fixo(x0, iteracoes):\n",
    "    \n",
    "    iteracao = 0\n",
    "    \n",
    "    while iteracao <= iteracoes: # Condição de iteração com critério de parada\n",
    "        x0 = funcao_iteracao(x0) # ponto fixo alternando na função a cada iteração\n",
    "        iteracao +=1\n",
    "        print(x0) # Exibe os pontos fixos encontrados\n",
    "        \n",
    "        # Gera os pontos fixos iterados no gráfico\n",
    "        plt.scatter(x0, funcao_iteracao(x0), marker=\"*\", color='red')\n",
    "    print('A raiz encontrada é:', x0)\n",
    "    \n",
    "    # Gera o gráfico da função\n",
    "    x = np.linspace(-1,1.5)  \n",
    "    plt.plot(x, funcao_iteracao(x))  \n",
    "    plt.grid()  \n",
    "    plt.show()"
   ]
  },
  {
   "cell_type": "code",
   "execution_count": 3,
   "id": "1ae29869-e59d-46b3-b93a-5e6fb8abadcc",
   "metadata": {},
   "outputs": [
    {
     "name": "stdout",
     "output_type": "stream",
     "text": [
      "1.189207115002721\n",
      "1.0800577526675623\n",
      "1.1496714305893827\n",
      "1.1078205295102599\n",
      "1.1339322845047308\n",
      "1.118003117715782\n",
      "1.127857163488397\n",
      "1.1218131660011292\n",
      "1.1255398742447806\n",
      "1.1232494322779183\n",
      "1.124659955364435\n",
      "1.1237923784547346\n",
      "1.124326406401652\n",
      "1.1239978438424163\n",
      "1.1242000509567949\n",
      "1.1240756286277038\n",
      "1.1241521966232515\n",
      "1.1241050807468485\n",
      "1.1241340745434705\n",
      "1.1241162330199055\n",
      "1.1241272120894217\n",
      "A raiz encontrada é: 1.1241272120894217\n"
     ]
    },
    {
     "data": {
      "image/png": "[encoded data removed]",
      "text/plain": [
       "<Figure size 432x288 with 1 Axes>"
      ]
     },
     "metadata": {
      "needs_background": "light"
     },
     "output_type": "display_data"
    }
   ],
   "source": [
    "ponto_fixo(x0, iteracoes)"
   ]
  },
  {
   "cell_type": "markdown",
   "id": "50e7a4ed-6895-4971-91bf-db118aa456c2",
   "metadata": {},
   "source": [
    "O valor encontrado para a raiz de $(-2x^2+x+3)^{\\frac{1}{4}}$ é aproximadamente $1,12$, considerando o ponto inicial $x_0 = 1$ e 20 iterações realizadas sobre a função.\n",
    "Como observado, após a sétima iteração, o resultado calculado pelo algoritmo ficou oscilando em torno desse valor a partir da 3ª casa decimal. Esse comportamento pode ser ilustrado pelo gráfico acima, que evidencia uma grande proximidade entre os valores assumidos por $x_0$ durantes as iterações."
   ]
  },
  {
   "cell_type": "markdown",
   "id": "cbb33e8e-94a3-45b1-b35a-b05602197088",
   "metadata": {},
   "source": [
    "Este método apresenta como vantagem a possibilidade de encontrar as raízes de uma função $f(x)=0$, por uma outra solução $g(x) = x$, em que $x$ é o ponto fixo no qual coincidem as duas funções, ou seja, $f(x) = x = g(x)$. Nesse método não é preciso definir o intervalo da raiz, pois os valores são obtidos por meio da função de iteração sobre pontos fixos.\n",
    "\n",
    "Esse método precisa satisfazer duas condições $g(x) = x$ e $f(x) = 0$, restringindo a aplicação para a convergência com as raízes da função.\n",
    "\n",
    "Dada uma equação $f(x) = 0$, existem infinitas funções de iteração, e portanto, inúmeras possibilidades de obter o valor de $x$. O Teorema da Convergência para o Método do Ponto Fixo, é capaz de determinar se a função escolhida é convergente, tal que:\n",
    "\n",
    "- A função de iteração $g(x)$ e sua derivada $g'(x)$ são contínuas em todo o intervalo $[a, b]$ em análise\n",
    "\n",
    "- $|g'(x)| \\leq N < 1$ para todo $x$ no intervalo estudado\n",
    "\n",
    "- $x_0$ pertence a este intervalo\n",
    "\n",
    "Este método apresenta como desvantagens a necessidade de estimar um ponto inicial, se restringe apenas a funções contínuas, e pode não haver convergência para a raíz, a depender da função de iteração aplicada. Por exemplo, uma função quadrática que possui duas raízes nas quais uma favorece a convergência, enquanto a outra apresenta divergência nos pontos fixos, se afastando de $f(x) = 0$."
   ]
  }
 ],
 "metadata": {
  "kernelspec": {
   "display_name": "ilumpy",
   "language": "python",
   "name": "ilumpy"
  },
  "language_info": {
   "codemirror_mode": {
    "name": "ipython",
    "version": 3
   },
   "file_extension": ".py",
   "mimetype": "text/x-python",
   "name": "python",
   "nbconvert_exporter": "python",
   "pygments_lexer": "ipython3",
   "version": "3.9.7"
  }
 },
 "nbformat": 4,
 "nbformat_minor": 5
}
